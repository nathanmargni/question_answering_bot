{
 "cells": [
  {
   "cell_type": "code",
   "execution_count": 1,
   "metadata": {},
   "outputs": [
    {
     "name": "stderr",
     "output_type": "stream",
     "text": [
      "[nltk_data] Downloading package punkt to /home/nathanm/nltk_data...\n",
      "[nltk_data]   Package punkt is already up-to-date!\n",
      "[nltk_data] Downloading package stopwords to\n",
      "[nltk_data]     /home/nathanm/nltk_data...\n",
      "[nltk_data]   Package stopwords is already up-to-date!\n"
     ]
    },
    {
     "data": {
      "text/plain": [
       "True"
      ]
     },
     "execution_count": 1,
     "metadata": {},
     "output_type": "execute_result"
    }
   ],
   "source": [
    "from rank_bm25 import BM25Okapi\n",
    "import nltk\n",
    "\n",
    "nltk.download(\"punkt\")\n",
    "nltk.download(\"stopwords\")\n",
    "\n",
    "\n"
   ]
  },
  {
   "cell_type": "code",
   "execution_count": 9,
   "metadata": {},
   "outputs": [],
   "source": [
    "\n",
    "documents =  [\"The Eiffel Tower is a wrought iron lattice tower on the Champ de Mars in Paris, France. It is named after the engineer Gustave Eiffel, whose company designed and built the tower. The tower stands at 324 meters tall and was the world's tallest structure when it was completed in 1889.\",\n",
    "    \"The Great Wall of China is a series of fortifications made of stone, brick, tamped earth, wood, and other materials, generally built along an east-to-west line across the historical northern borders of China. The main purpose of the wall was to protect China from invasions by nomadic tribes.\",\n",
    "    \"The Leaning Tower of Pisa is the campanile, or freestanding bell tower, of the cathedral of the Italian city of Pisa, it is known worldwide for its nearly four-degree lean, it is leaning as the result of an unstable foundation. Construction of the tower began in 1173 and took nearly 200 years to complete.\",\n",
    "    \"Mount Everest is Earth's highest mountain above sea level, with a peak that rises to an elevation of 8,848.86 meters. It is located in the Mahalangur Himal subrange of the Himalayas and sits on the border between Nepal and China's Tibet Autonomous Region.\",\n",
    "    \"The Amazon Rainforest, also known as the Amazon Jungle, is a moist broadleaf forest that covers most of the Amazon basin of South America. It is the world's largest rainforest, and it is home to a diverse range of plants and animals, many of which are found nowhere else on Earth.\"]"
   ]
  },
  {
   "cell_type": "code",
   "execution_count": 10,
   "metadata": {},
   "outputs": [],
   "source": [
    "\n",
    "def get_best_document_bm25(question, documents):\n",
    "    tokenized_documents = [nltk.word_tokenize(doc) for doc in documents]\n",
    "    bm25 = BM25Okapi(tokenized_documents)\n",
    "    tokenized_query = nltk.word_tokenize(question)\n",
    "    doc_scores = bm25.get_scores(tokenized_query)\n",
    "    best_doc_index = doc_scores.argmax()\n",
    "    return documents[best_doc_index]\n",
    "\n",
    "\n",
    "def get_best_sentence_bm25(question, document):\n",
    "    sentences = nltk.sent_tokenize(document)\n",
    "    tokenized_sentences = [nltk.word_tokenize(sentence) for sentence in sentences]\n",
    "\n",
    "    bm25 = BM25Okapi(tokenized_sentences)\n",
    "\n",
    "    tokenized_query = nltk.word_tokenize(question)\n",
    "    sentence_scores = bm25.get_scores(tokenized_query)\n",
    "\n",
    "    best_sentence_index = sentence_scores.argmax()\n",
    "    return sentences[best_sentence_index]"
   ]
  },
  {
   "cell_type": "code",
   "execution_count": 11,
   "metadata": {},
   "outputs": [
    {
     "name": "stdout",
     "output_type": "stream",
     "text": [
      "Best sentence: It is located in the Mahalangur Himal subrange of the Himalayas and sits on the border between Nepal and China's Tibet Autonomous Region.\n"
     ]
    }
   ],
   "source": [
    "question = \"Where is Mount Everest located?\"\n",
    "\n",
    "best_document = get_best_document_bm25(question, documents)\n",
    "best_sentence = get_best_sentence_bm25(question, best_document)\n",
    "\n",
    "print(\"Best sentence:\", best_sentence)\n"
   ]
  },
  {
   "cell_type": "code",
   "execution_count": null,
   "metadata": {},
   "outputs": [],
   "source": []
  },
  {
   "cell_type": "code",
   "execution_count": null,
   "metadata": {},
   "outputs": [],
   "source": []
  },
  {
   "cell_type": "code",
   "execution_count": null,
   "metadata": {},
   "outputs": [],
   "source": []
  },
  {
   "cell_type": "code",
   "execution_count": null,
   "metadata": {},
   "outputs": [],
   "source": []
  },
  {
   "cell_type": "code",
   "execution_count": null,
   "metadata": {},
   "outputs": [],
   "source": []
  },
  {
   "cell_type": "code",
   "execution_count": null,
   "metadata": {},
   "outputs": [],
   "source": []
  },
  {
   "cell_type": "code",
   "execution_count": null,
   "metadata": {},
   "outputs": [],
   "source": []
  },
  {
   "cell_type": "code",
   "execution_count": null,
   "metadata": {},
   "outputs": [],
   "source": []
  },
  {
   "cell_type": "code",
   "execution_count": null,
   "metadata": {},
   "outputs": [],
   "source": []
  }
 ],
 "metadata": {
  "kernelspec": {
   "display_name": "nlp",
   "language": "python",
   "name": "python3"
  },
  "language_info": {
   "codemirror_mode": {
    "name": "ipython",
    "version": 3
   },
   "file_extension": ".py",
   "mimetype": "text/x-python",
   "name": "python",
   "nbconvert_exporter": "python",
   "pygments_lexer": "ipython3",
   "version": "3.10.11"
  },
  "orig_nbformat": 4
 },
 "nbformat": 4,
 "nbformat_minor": 2
}
