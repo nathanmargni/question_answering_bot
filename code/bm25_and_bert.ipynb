{
 "cells": [
  {
   "cell_type": "code",
   "execution_count": 13,
   "metadata": {},
   "outputs": [],
   "source": [
    "import torch\n",
    "from transformers import BertForQuestionAnswering, BertTokenizer\n",
    "from rank_bm25 import BM25Okapi\n",
    "import nltk"
   ]
  },
  {
   "cell_type": "code",
   "execution_count": 14,
   "metadata": {},
   "outputs": [],
   "source": [
    "model = BertForQuestionAnswering.from_pretrained(\"bert-large-uncased-whole-word-masking-finetuned-squad\")\n",
    "tokenizer = BertTokenizer.from_pretrained(\"bert-large-uncased-whole-word-masking-finetuned-squad\")\n"
   ]
  },
  {
   "cell_type": "code",
   "execution_count": 15,
   "metadata": {},
   "outputs": [],
   "source": [
    "documents =  [\"The Eiffel Tower is a wrought iron lattice tower on the Champ de Mars in Paris, France. It is named after the engineer Gustave Eiffel, whose company designed and built the tower. The tower stands at 324 meters tall and was the world's tallest structure when it was completed in 1889.\",\n",
    "    \"The Great Wall of China is a series of fortifications made of stone, brick, tamped earth, wood, and other materials, generally built along an east-to-west line across the historical northern borders of China. The main purpose of the wall was to protect China from invasions by nomadic tribes.\",\n",
    "    \"The Leaning Tower of Pisa is the campanile, or freestanding bell tower, of the cathedral of the Italian city of Pisa, known worldwide for its nearly four-degree lean, the result of an unstable foundation. Construction of the tower began in 1173 and took nearly 200 years to complete.\",\n",
    "    \"Mount Everest is Earth's highest mountain above sea level, with a peak that rises to an elevation of 8,848.86 meters. It is located in the Mahalangur Himal subrange of the Himalayas and sits on the border between Nepal and China's Tibet Autonomous Region.\",\n",
    "    \"The Amazon Rainforest, also known as the Amazon Jungle, is a moist broadleaf forest that covers most of the Amazon basin of South America. It is the world's largest rainforest, and it is home to a diverse range of plants and animals, many of which are found nowhere else on Earth.\"]"
   ]
  },
  {
   "cell_type": "code",
   "execution_count": 16,
   "metadata": {},
   "outputs": [],
   "source": [
    "\n",
    "# tokenize documents\n",
    "tokenized_documents = [nltk.word_tokenize(doc) for doc in documents]\n",
    "\n",
    "# initialize bm25 with the documents\n",
    "bm25 = BM25Okapi(tokenized_documents)\n"
   ]
  },
  {
   "cell_type": "code",
   "execution_count": 17,
   "metadata": {},
   "outputs": [],
   "source": [
    "question = \"why the pisa tower is leaning?\"\n",
    "\n",
    "k = 2\n",
    "top_k_documents = [documents[i] for i in bm25.get_top_n(nltk.word_tokenize(question), range(len(documents)), k)]\n"
   ]
  },
  {
   "cell_type": "code",
   "execution_count": 18,
   "metadata": {},
   "outputs": [
    {
     "name": "stdout",
     "output_type": "stream",
     "text": [
      "Answer: the result of an unstable foundation\n"
     ]
    }
   ],
   "source": [
    "# split the documents \n",
    "sentences = [sentence for document in top_k_documents for sentence in nltk.sent_tokenize(document)]\n",
    "\n",
    "# iterate through sentences and calculate start and end scores with BERT\n",
    "best_score = -1\n",
    "best_sentence = None\n",
    "\n",
    "for sentence in sentences:\n",
    "    inputs = tokenizer.encode_plus(question, sentence, return_tensors=\"pt\", max_length=512, truncation=True)\n",
    "    outputs = model(**inputs)\n",
    "    start_scores, end_scores = outputs.start_logits, outputs.end_logits\n",
    "\n",
    "    # get tokens with highest start and end scores\n",
    "    start_index = torch.argmax(start_scores)\n",
    "    end_index = torch.argmax(end_scores)\n",
    "\n",
    "    # check if current sentence has better score\n",
    "    combined_score = start_scores[0][start_index].item() + end_scores[0][end_index].item()\n",
    "    if combined_score > best_score:\n",
    "        best_score = combined_score\n",
    "        answer_tokens = tokenizer.convert_ids_to_tokens(inputs[\"input_ids\"][0][start_index:end_index + 1])\n",
    "        best_sentence = tokenizer.convert_tokens_to_string(answer_tokens)\n",
    "\n",
    "print(f\"Answer: {best_sentence}\")"
   ]
  },
  {
   "cell_type": "code",
   "execution_count": null,
   "metadata": {},
   "outputs": [],
   "source": []
  },
  {
   "cell_type": "code",
   "execution_count": null,
   "metadata": {},
   "outputs": [],
   "source": []
  },
  {
   "cell_type": "code",
   "execution_count": null,
   "metadata": {},
   "outputs": [],
   "source": []
  }
 ],
 "metadata": {
  "kernelspec": {
   "display_name": "nlp",
   "language": "python",
   "name": "python3"
  },
  "language_info": {
   "codemirror_mode": {
    "name": "ipython",
    "version": 3
   },
   "file_extension": ".py",
   "mimetype": "text/x-python",
   "name": "python",
   "nbconvert_exporter": "python",
   "pygments_lexer": "ipython3",
   "version": "3.10.11"
  },
  "orig_nbformat": 4
 },
 "nbformat": 4,
 "nbformat_minor": 2
}
